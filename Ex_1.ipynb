{
 "cells": [
  {
   "cell_type": "code",
   "id": "initial_id",
   "metadata": {
    "collapsed": true,
    "ExecuteTime": {
     "end_time": "2024-11-29T07:30:00.898808Z",
     "start_time": "2024-11-29T07:30:00.895019Z"
    }
   },
   "source": [
    "import pandas as pd\n",
    "import re\n",
    "import os"
   ],
   "outputs": [],
   "execution_count": 6
  },
  {
   "metadata": {
    "ExecuteTime": {
     "end_time": "2024-11-29T10:06:55.610459Z",
     "start_time": "2024-11-29T10:06:55.606187Z"
    }
   },
   "cell_type": "code",
   "source": [
    "folder_path = r\"C:\\Users\\Elusive\\Desktop\\Study\\Постановления\"\n",
    "\n",
    "pattern_kad = r'^\\d{2}:\\s*\\d{2}(?::\\s*\\d+|\\s\\d+|\\w*)*:?(\\d+)?$'\n",
    "pattern_address = r\"г\\.\\s*Оренбург.*\""
   ],
   "id": "f88e0d08d8da0ee9",
   "outputs": [],
   "execution_count": 19
  },
  {
   "metadata": {
    "ExecuteTime": {
     "end_time": "2024-11-29T10:06:56.212884Z",
     "start_time": "2024-11-29T10:06:56.060059Z"
    }
   },
   "cell_type": "code",
   "source": [
    "all_matches_kad = []\n",
    "all_matches_address = []\n",
    "\n",
    "for filename in os.listdir(folder_path):\n",
    "    file_path = os.path.join(folder_path, filename)\n",
    "    xls = pd.ExcelFile(file_path)\n",
    "\n",
    "    for sheet_name in xls.sheet_names:\n",
    "        sheet_data = pd.read_excel(xls, sheet_name=sheet_name, header=None)\n",
    "        \n",
    "        for row in sheet_data.itertuples(index=False):\n",
    "            for cell in row:\n",
    "                if isinstance(cell, str):\n",
    "                    match_kad = re.match(pattern_kad, cell.strip())\n",
    "                    if match_kad:\n",
    "                        all_matches_kad.append(match_kad.group(0))\n",
    "                        \n",
    "                    match_address = re.findall(pattern_address, cell, re.DOTALL)\n",
    "                    if match_address:\n",
    "                        all_matches_address.extend(match_address)\n",
    "                \n",
    "result_df = pd.concat([pd.Series(all_matches_kad), pd.Series(all_matches_address)], axis=1).rename(columns={0: 'Кадастровый номер', 1: 'Адрес поврежденного  жилого помещения'})\n",
    "result_df['Адрес поврежденного  жилого помещения'] = result_df['Адрес поврежденного  жилого помещения'].str.replace('\\n', ' ', regex=True)\n",
    "result_df"
   ],
   "id": "a316a05b611dfa8",
   "outputs": [
    {
     "data": {
      "text/plain": [
       "       Кадастровый номер              Адрес поврежденного  жилого помещения\n",
       "0    56:44:0239001:22105  г. Оренбург, CHT «Дубовый плес 1», проезд 9-й ...\n",
       "1    56:44:0239001:21336  г. Оренбург, CHT «Дубовый плёс» проезд 5-й Дуб...\n",
       "2    56:44:0239001:22284  г. Оренбург, CHT «Дубовый плёс» проезд 5-й Дуб...\n",
       "3    56:44:0239001:21692  г. Оренбург, CHT «Дубовый плёс», проезд 5-й Ду...\n",
       "4    56:44:0239001:20944  г. Оренбург, CHT «Дубовый плёс», проезд 5-й Ду...\n",
       "..                   ...                                                ...\n",
       "145  56:44: 1001002:1064  г. Оренбург, село Краснохолм, ул. Краснознамен...\n",
       "146   56:44:1001001:4169  г. Оренбург, с. Краснохолм, ул. Краснознаменна...\n",
       "147   56:44:1001001:2542  г. Оренбург, с. Краснохолм, ул. Краснознаменна...\n",
       "148   56:44:1001002:1034  г. Оренбург, село Краснохолм, ул. Краснознамен...\n",
       "149  56:44:100100 1:2423  г. Оренбург, с. Краснохолм, ул. Краснознаменна...\n",
       "\n",
       "[150 rows x 2 columns]"
      ],
      "text/html": [
       "<div>\n",
       "<style scoped>\n",
       "    .dataframe tbody tr th:only-of-type {\n",
       "        vertical-align: middle;\n",
       "    }\n",
       "\n",
       "    .dataframe tbody tr th {\n",
       "        vertical-align: top;\n",
       "    }\n",
       "\n",
       "    .dataframe thead th {\n",
       "        text-align: right;\n",
       "    }\n",
       "</style>\n",
       "<table border=\"1\" class=\"dataframe\">\n",
       "  <thead>\n",
       "    <tr style=\"text-align: right;\">\n",
       "      <th></th>\n",
       "      <th>Кадастровый номер</th>\n",
       "      <th>Адрес поврежденного  жилого помещения</th>\n",
       "    </tr>\n",
       "  </thead>\n",
       "  <tbody>\n",
       "    <tr>\n",
       "      <th>0</th>\n",
       "      <td>56:44:0239001:22105</td>\n",
       "      <td>г. Оренбург, CHT «Дубовый плес 1», проезд 9-й ...</td>\n",
       "    </tr>\n",
       "    <tr>\n",
       "      <th>1</th>\n",
       "      <td>56:44:0239001:21336</td>\n",
       "      <td>г. Оренбург, CHT «Дубовый плёс» проезд 5-й Дуб...</td>\n",
       "    </tr>\n",
       "    <tr>\n",
       "      <th>2</th>\n",
       "      <td>56:44:0239001:22284</td>\n",
       "      <td>г. Оренбург, CHT «Дубовый плёс» проезд 5-й Дуб...</td>\n",
       "    </tr>\n",
       "    <tr>\n",
       "      <th>3</th>\n",
       "      <td>56:44:0239001:21692</td>\n",
       "      <td>г. Оренбург, CHT «Дубовый плёс», проезд 5-й Ду...</td>\n",
       "    </tr>\n",
       "    <tr>\n",
       "      <th>4</th>\n",
       "      <td>56:44:0239001:20944</td>\n",
       "      <td>г. Оренбург, CHT «Дубовый плёс», проезд 5-й Ду...</td>\n",
       "    </tr>\n",
       "    <tr>\n",
       "      <th>...</th>\n",
       "      <td>...</td>\n",
       "      <td>...</td>\n",
       "    </tr>\n",
       "    <tr>\n",
       "      <th>145</th>\n",
       "      <td>56:44: 1001002:1064</td>\n",
       "      <td>г. Оренбург, село Краснохолм, ул. Краснознамен...</td>\n",
       "    </tr>\n",
       "    <tr>\n",
       "      <th>146</th>\n",
       "      <td>56:44:1001001:4169</td>\n",
       "      <td>г. Оренбург, с. Краснохолм, ул. Краснознаменна...</td>\n",
       "    </tr>\n",
       "    <tr>\n",
       "      <th>147</th>\n",
       "      <td>56:44:1001001:2542</td>\n",
       "      <td>г. Оренбург, с. Краснохолм, ул. Краснознаменна...</td>\n",
       "    </tr>\n",
       "    <tr>\n",
       "      <th>148</th>\n",
       "      <td>56:44:1001002:1034</td>\n",
       "      <td>г. Оренбург, село Краснохолм, ул. Краснознамен...</td>\n",
       "    </tr>\n",
       "    <tr>\n",
       "      <th>149</th>\n",
       "      <td>56:44:100100 1:2423</td>\n",
       "      <td>г. Оренбург, с. Краснохолм, ул. Краснознаменна...</td>\n",
       "    </tr>\n",
       "  </tbody>\n",
       "</table>\n",
       "<p>150 rows × 2 columns</p>\n",
       "</div>"
      ]
     },
     "execution_count": 20,
     "metadata": {},
     "output_type": "execute_result"
    }
   ],
   "execution_count": 20
  },
  {
   "metadata": {
    "ExecuteTime": {
     "end_time": "2024-11-29T10:06:57.658128Z",
     "start_time": "2024-11-29T10:06:57.610144Z"
    }
   },
   "cell_type": "code",
   "source": "result_df.to_excel('Постановления.xlsx', index=False)",
   "id": "c6c5d6289e6e49a9",
   "outputs": [],
   "execution_count": 21
  },
  {
   "metadata": {},
   "cell_type": "code",
   "outputs": [],
   "execution_count": null,
   "source": "",
   "id": "6c26d7314ffb44ec"
  }
 ],
 "metadata": {
  "kernelspec": {
   "display_name": "Python 3",
   "language": "python",
   "name": "python3"
  },
  "language_info": {
   "codemirror_mode": {
    "name": "ipython",
    "version": 2
   },
   "file_extension": ".py",
   "mimetype": "text/x-python",
   "name": "python",
   "nbconvert_exporter": "python",
   "pygments_lexer": "ipython2",
   "version": "2.7.6"
  }
 },
 "nbformat": 4,
 "nbformat_minor": 5
}
